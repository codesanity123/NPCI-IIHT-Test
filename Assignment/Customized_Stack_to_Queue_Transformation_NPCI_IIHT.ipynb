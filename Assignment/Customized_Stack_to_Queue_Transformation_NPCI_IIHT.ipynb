{
  "nbformat": 4,
  "nbformat_minor": 0,
  "metadata": {
    "colab": {
      "name": " Customized Stack to Queue Transformation NPCI IIHT",
      "provenance": [],
      "collapsed_sections": []
    },
    "kernelspec": {
      "name": "python3",
      "display_name": "Python 3"
    },
    "language_info": {
      "name": "python"
    }
  },
  "cells": [
    {
      "cell_type": "markdown",
      "metadata": {
        "id": "JJN88L-krHGC"
      },
      "source": [
        "Customized Stack to Queue Transformation"
      ]
    },
    {
      "cell_type": "code",
      "metadata": {
        "colab": {
          "base_uri": "https://localhost:8080/"
        },
        "id": "-XaTc0y-rOK-",
        "outputId": "802c5b9b-4cf5-4d2f-b725-9a9420c1d960"
      },
      "source": [
        "class StackUsingArray:\n",
        "    def __init__(self):\n",
        "        self.stack = []\n",
        "\n",
        "    #Method to append the element in the stack at top position.\n",
        "    def push(self, element):\n",
        "        self.stack.append(element)\n",
        "\n",
        "    #Method to Pop last element from the top of the stack\n",
        "    def pop(self):\n",
        "        if(not self.isEmpty()):\n",
        "            lastElement = self.stack[-1] #Save the last element to return\n",
        "            del(self.stack[-1]) #Remove the last element\n",
        "            return lastElement\n",
        "        else:\n",
        "            return(\"Stack Already Empty\")\n",
        "\n",
        "    #Method to check if stack is empty or not\n",
        "    def isEmpty(self):\n",
        "        return self.stack == []\n",
        "\n",
        "    def printStack(self):\n",
        "        print(\"The Stack is: \",self.stack)\n",
        "\n",
        "class Queue:\n",
        " \n",
        "    def __init__(self, c):\n",
        "         \n",
        "        self.queue = []\n",
        "        self.front = self.rear = 0\n",
        "        self.capacity = c\n",
        " \n",
        "    def queueEnqueue(self, data):\n",
        " \n",
        "\n",
        "        if(self.capacity == self.rear):\n",
        "            print(\"\\nQueue is full\")\n",
        "\n",
        "        else:\n",
        "            self.queue.append(data)\n",
        "            self.rear += 1\n",
        "\n",
        "    def queueDequeue(self):\n",
        " \n",
        "        # If queue is empty\n",
        "        if(self.front == self.rear):\n",
        "            print(\"Queue is empty\")\n",
        " \n",
        "  \n",
        "        else:\n",
        "            x = self.queue.pop(0)\n",
        "            self.rear -= 1\n",
        "\n",
        "    def queueDisplay(self):\n",
        "         \n",
        "      if(self.front == self.rear):\n",
        "            print(\"\\nQueue is Empty\")\n",
        " \n",
        "      else:\n",
        "        print(\"Elements in the queue are:\",end = \" \")                                      \n",
        "        for i in range(self.front, self.rear):\n",
        "                print(self.queue[i], end = \" \")\n",
        "        print ()\n",
        "\n",
        "    def queueFront(self):\n",
        "         \n",
        "        if(self.front == self.rear):\n",
        "            print(\"\\nQueue is Empty\")\n",
        " \n",
        "        print(\"\\nFront Element is:\",\n",
        "              self.queue[self.front])\n",
        "\n",
        "def CalculateQueueElemPositions(stack,size):\n",
        "    q=Queue(size)\n",
        "    min1 = stack[0] \n",
        "    min2 = stack[0]\n",
        "    min_idx1 = 0\n",
        "    min_idx2 = 0\n",
        "    \n",
        "    for i, num in enumerate(stack) :\n",
        "        if num < min1 :\n",
        "            min2 = min1\n",
        "            min_idx2 = min_idx1\n",
        "            min1 = num\n",
        "            min_idx1 = i \n",
        "        elif num < min2 :\n",
        "            min2 = num\n",
        "            min_idx2 = i\n",
        "       \n",
        "    for num in stack :\n",
        "        if (num > min1) and (num % min1 == 0) :\n",
        "            q.queueEnqueue(num)\n",
        "\n",
        "        if (num > min2) and (num % min2 == 0) :\n",
        "            q.queueEnqueue(num)\n",
        "    q.queueDisplay()  \n",
        "\n",
        "s = StackUsingArray()\n",
        "s.push(6)\n",
        "s.push(12)\n",
        "s.push(2)\n",
        "s.push(15)\n",
        "s.push(17)\n",
        "s.push(3)\n",
        "s.push(9)\n",
        "s.push(21)\n",
        "s.push(8)\n",
        "s.printStack()\n",
        "size=len(s.stack)\n",
        "CalculateQueueElemPositions(s.stack,size)"
      ],
      "execution_count": 11,
      "outputs": [
        {
          "output_type": "stream",
          "name": "stdout",
          "text": [
            "The Stack is:  [6, 12, 2, 15, 17, 3, 9, 21, 8]\n",
            "Elements in the queue are: 6 6 12 12 15 9 21 8 \n"
          ]
        }
      ]
    }
  ]
}