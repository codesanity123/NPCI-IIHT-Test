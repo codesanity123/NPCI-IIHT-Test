{
  "nbformat": 4,
  "nbformat_minor": 0,
  "metadata": {
    "colab": {
      "name": "Circular Queue NPCI IIHT",
      "provenance": [],
      "collapsed_sections": []
    },
    "kernelspec": {
      "name": "python3",
      "display_name": "Python 3"
    },
    "language_info": {
      "name": "python"
    }
  },
  "cells": [
    {
      "cell_type": "markdown",
      "metadata": {
        "id": "GshzpdoioBkJ"
      },
      "source": [
        "Circular Queue\n",
        "\n",
        "\n"
      ]
    },
    {
      "cell_type": "code",
      "metadata": {
        "colab": {
          "base_uri": "https://localhost:8080/"
        },
        "id": "KrsbeSGIn-yQ",
        "outputId": "2cf3adc5-bb4a-42fa-bfac-7fd02e0014ae"
      },
      "source": [
        "class CircularQueue():\n",
        " \n",
        "    def __init__(self, size): \n",
        "        self.size = size\n",
        "         \n",
        "\n",
        "        self.queue = [None for i in range(size)]\n",
        "        self.front = self.rear = -1\n",
        " \n",
        "    def enqueue(self, data):\n",
        "         \n",
        "\n",
        "        if ((self.rear + 1) % self.size == self.front):\n",
        "            print(\" Queue is Full\\n\")\n",
        "             \n",
        "        elif (self.front == -1):\n",
        "            self.front = 0\n",
        "            self.rear = 0\n",
        "            self.queue[self.rear] = data\n",
        "\n",
        "        else: \n",
        "            self.rear = (self.rear + 1) % self.size\n",
        "            self.queue[self.rear] = data\n",
        "             \n",
        "    def dequeue(self):\n",
        "        if (self.front == -1):\n",
        "            print (\"Queue is Empty\\n\")\n",
        "\n",
        "        elif (self.front == self.rear):\n",
        "            temp=self.queue[self.front]\n",
        "            self.front = -1\n",
        "            self.rear = -1\n",
        "            return temp\n",
        "        else:\n",
        "            temp = self.queue[self.front]\n",
        "            self.front = (self.front + 1) % self.size\n",
        "            return temp\n",
        " \n",
        "    def display(self):\n",
        "\n",
        "        if(self.front == -1):\n",
        "            print (\"Queue is Empty\")\n",
        " \n",
        "        elif (self.rear >= self.front):\n",
        "            print(\"Elements in the circular queue are:\",\n",
        "                                              end = \" \")\n",
        "            for i in range(self.front, self.rear + 1):\n",
        "                print(self.queue[i], end = \" \")\n",
        "            print ()\n",
        " \n",
        "        else:\n",
        "            print (\"Elements in circular queue are:\",\n",
        "                                           end = \" \")\n",
        "            for i in range(self.front, self.size):\n",
        "                print(self.queue[i], end = \" \")\n",
        "            for i in range(0, self.rear + 1):\n",
        "                print(self.queue[i], end = \" \")\n",
        "            print ()\n",
        " \n",
        "        if ((self.rear + 1) % self.size == self.front):\n",
        "            print(\"Queue is Full\")\n",
        " \n",
        "\n",
        "q1 = CircularQueue(6)\n",
        "q1.enqueue(57)\n",
        "q1.enqueue(24)\n",
        "q1.enqueue(75)\n",
        "q1.enqueue(4)\n",
        "q1.display()\n",
        "print (\"Deleted value = \", q1.dequeue())\n",
        "print (\"Deleted value = \", q1.dequeue())\n",
        "q1.display()\n",
        "q1.enqueue(28)\n",
        "q1.enqueue(96)\n",
        "q1.enqueue(41)\n",
        "q1.enqueue(87)\n",
        "q1.display()"
      ],
      "execution_count": 4,
      "outputs": [
        {
          "output_type": "stream",
          "name": "stdout",
          "text": [
            "Elements in the circular queue are: 57 24 75 4 \n",
            "Deleted value =  57\n",
            "Deleted value =  24\n",
            "Elements in the circular queue are: 75 4 \n",
            "Elements in circular queue are: 75 4 28 96 41 87 \n",
            "Queue is Full\n"
          ]
        }
      ]
    }
  ]
}