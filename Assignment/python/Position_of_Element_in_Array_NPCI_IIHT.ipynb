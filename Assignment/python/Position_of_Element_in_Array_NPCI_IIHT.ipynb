{
  "nbformat": 4,
  "nbformat_minor": 0,
  "metadata": {
    "colab": {
      "name": "Position of Element in Array NPCI IIHT",
      "provenance": [],
      "collapsed_sections": []
    },
    "kernelspec": {
      "name": "python3",
      "display_name": "Python 3"
    },
    "language_info": {
      "name": "python"
    }
  },
  "cells": [
    {
      "cell_type": "markdown",
      "metadata": {
        "id": "o0wKIQE2OAcW"
      },
      "source": [
        "Position of Element"
      ]
    },
    {
      "cell_type": "code",
      "metadata": {
        "colab": {
          "base_uri": "https://localhost:8080/"
        },
        "id": "Z56aU74oNaCo",
        "outputId": "7932c788-28c9-437c-e116-0cda2f00856a"
      },
      "source": [
        "#For First Occurance\n",
        "arr=[7,5,3,8,2,1,9]  \n",
        "key = 8  \n",
        "pos=0         \n",
        "   \n",
        "print(\"Elements of original array: \");    \n",
        "for i in range(0, len(arr)):    \n",
        "    print(arr[i], end=\" \");    \n",
        "         \n",
        "   \n",
        "for i in range(0, len(arr)):       \n",
        "        if(key == arr[i]):    \n",
        "            pos=i;    \n",
        "            break; \n",
        "        \n",
        "print(\"\\nPosition of the number in the array is:\",pos);    \n"
      ],
      "execution_count": 1,
      "outputs": [
        {
          "output_type": "stream",
          "name": "stdout",
          "text": [
            "Elements of original array: \n",
            "7 5 3 8 2 1 9 \n",
            "Position of the number in the array is: 3\n"
          ]
        }
      ]
    },
    {
      "cell_type": "code",
      "metadata": {
        "colab": {
          "base_uri": "https://localhost:8080/"
        },
        "id": "xS5nguUROPmE",
        "outputId": "c95c07a9-c298-4223-ddd5-677269bc9d85"
      },
      "source": [
        "#For All Occurance\n",
        "arr=[7,5,3,5,2,1,9]  \n",
        "key = 5  \n",
        "pos= []        \n",
        "   \n",
        "print(\"Elements of original array: \");    \n",
        "for i in range(0, len(arr)):    \n",
        "    print(arr[i], end=\" \");    \n",
        "         \n",
        "   \n",
        "for i in range(0, len(arr)):       \n",
        "        if(key == arr[i]):    \n",
        "            pos.append(i)   \n",
        "             \n",
        "        \n",
        "print(\"\\nPosition of the number in the array is:\",pos);    \n"
      ],
      "execution_count": 2,
      "outputs": [
        {
          "output_type": "stream",
          "name": "stdout",
          "text": [
            "Elements of original array: \n",
            "7 5 3 5 2 1 9 \n",
            "Position of the number in the array is: [1, 3]\n"
          ]
        }
      ]
    }
  ]
}
