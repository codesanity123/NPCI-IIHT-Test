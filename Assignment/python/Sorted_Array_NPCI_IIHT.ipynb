{
  "nbformat": 4,
  "nbformat_minor": 0,
  "metadata": {
    "colab": {
      "name": "Sorted Array NPCI IIHT",
      "provenance": [],
      "collapsed_sections": []
    },
    "kernelspec": {
      "name": "python3",
      "display_name": "Python 3"
    },
    "language_info": {
      "name": "python"
    }
  },
  "cells": [
    {
      "cell_type": "markdown",
      "metadata": {
        "id": "raRjK0LQGfLM"
      },
      "source": [
        "Sorted Array"
      ]
    },
    {
      "cell_type": "code",
      "metadata": {
        "colab": {
          "base_uri": "https://localhost:8080/"
        },
        "id": "araiu3-cFwN_",
        "outputId": "00b87a23-94ae-46a4-bcad-6c946b425aef"
      },
      "source": [
        "arr=[7,5,3,8,2,1,9]  \n",
        "temp = 0;    \n",
        "         \n",
        "   \n",
        "print(\"Elements of original array: \");    \n",
        "for i in range(0, len(arr)):    \n",
        "    print(arr[i], end=\" \");    \n",
        "         \n",
        "   \n",
        "for i in range(0, len(arr)):    \n",
        "    for j in range(i+1, len(arr)):    \n",
        "            if(arr[i] > arr[j]):    \n",
        "                temp = arr[i];    \n",
        "                arr[i] = arr[j];    \n",
        "                arr[j] = temp;    \n",
        "         \n",
        "        \n",
        "print(\"\\nElements of array sorted in ascending order: \");    \n",
        "for i in range(0, len(arr)):    \n",
        "        print(arr[i], end=\" \");    "
      ],
      "execution_count": 5,
      "outputs": [
        {
          "output_type": "stream",
          "name": "stdout",
          "text": [
            "Elements of original array: \n",
            "7 5 3 8 2 1 9 \n",
            "Elements of array sorted in ascending order: \n",
            "1 2 3 5 7 8 9 "
          ]
        }
      ]
    }
  ]
}
